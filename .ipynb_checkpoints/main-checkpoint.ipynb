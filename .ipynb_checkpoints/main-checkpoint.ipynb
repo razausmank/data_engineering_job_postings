{
 "cells": [
  {
   "cell_type": "markdown",
   "metadata": {},
   "source": [
    "# Step 1: Explore and Collect the Dataset (Week 1)\n",
    "\n",
    "Download and understand the job market dataset and prepare it for further processing.\n",
    "\n",
    "Tasks:\n",
    "Download Dataset:\n",
    "\n",
    "Download the dataset from Kaggle.\n",
    "Explore the CSV file to understand its structure: job title, company, location, job description, post date, etc.\n",
    "Understand the Data:\n",
    "\n",
    "Examine key features such as:\n",
    "Job Title: What roles are being posted?\n",
    "Company: Which companies are posting the most jobs?\n",
    "Location: Where are most jobs located?\n",
    "Job Function: What are the most common job functions (e.g., IT, HR, Marketing)?\n",
    "Employment Type: Full-time, part-time, contract, etc.\n",
    "Skills Learned:\n",
    "Exploratory Data Analysis (EDA): Learn how to understand datasets before performing operations.\n",
    "Technologies:\n",
    "Pandas (for data exploration in Python)."
   ]
  },
  {
   "cell_type": "code",
   "execution_count": 5,
   "metadata": {},
   "outputs": [
    {
     "name": "stdout",
     "output_type": "stream",
     "text": [
      "<class 'pandas.core.frame.DataFrame'>\n",
      "RangeIndex: 123849 entries, 0 to 123848\n",
      "Data columns (total 31 columns):\n",
      " #   Column                      Non-Null Count   Dtype  \n",
      "---  ------                      --------------   -----  \n",
      " 0   job_id                      123849 non-null  int64  \n",
      " 1   company_name                122130 non-null  object \n",
      " 2   title                       123849 non-null  object \n",
      " 3   description                 123842 non-null  object \n",
      " 4   max_salary                  29793 non-null   float64\n",
      " 5   pay_period                  36073 non-null   object \n",
      " 6   location                    123849 non-null  object \n",
      " 7   company_id                  122132 non-null  float64\n",
      " 8   views                       122160 non-null  float64\n",
      " 9   med_salary                  6280 non-null    float64\n",
      " 10  min_salary                  29793 non-null   float64\n",
      " 11  formatted_work_type         123849 non-null  object \n",
      " 12  applies                     23320 non-null   float64\n",
      " 13  original_listed_time        123849 non-null  float64\n",
      " 14  remote_allowed              15246 non-null   float64\n",
      " 15  job_posting_url             123849 non-null  object \n",
      " 16  application_url             87184 non-null   object \n",
      " 17  application_type            123849 non-null  object \n",
      " 18  expiry                      123849 non-null  float64\n",
      " 19  closed_time                 1073 non-null    float64\n",
      " 20  formatted_experience_level  94440 non-null   object \n",
      " 21  skills_desc                 2439 non-null    object \n",
      " 22  listed_time                 123849 non-null  float64\n",
      " 23  posting_domain              83881 non-null   object \n",
      " 24  sponsored                   123849 non-null  int64  \n",
      " 25  work_type                   123849 non-null  object \n",
      " 26  currency                    36073 non-null   object \n",
      " 27  compensation_type           36073 non-null   object \n",
      " 28  normalized_salary           36073 non-null   float64\n",
      " 29  zip_code                    102977 non-null  float64\n",
      " 30  fips                        96434 non-null   float64\n",
      "dtypes: float64(14), int64(2), object(15)\n",
      "memory usage: 29.3+ MB\n"
     ]
    }
   ],
   "source": [
    "import pandas as pd \n",
    "\n",
    "chunk_size = 10000\n",
    "\n",
    "chunks = [ ]\n",
    "\n",
    "for index, chunk in enumerate(pd.read_csv('data/postings.csv', chunksize=chunk_size)): \n",
    "    # print(f\"reading chunk {index}\")\n",
    "    # print(f\"shape is  {chunk.shape}\")\n",
    "    chunks.append(chunk)\n",
    "    \n",
    "    \n",
    "df = pd.concat(chunks, ignore_index=True)\n",
    "    \n",
    "    \n",
    "df.info()"
   ]
  },
  {
   "cell_type": "code",
   "execution_count": null,
   "metadata": {},
   "outputs": [],
   "source": []
  }
 ],
 "metadata": {
  "kernelspec": {
   "display_name": "Python 3 (ipykernel)",
   "language": "python",
   "name": "python3"
  },
  "language_info": {
   "codemirror_mode": {
    "name": "ipython",
    "version": 3
   },
   "file_extension": ".py",
   "mimetype": "text/x-python",
   "name": "python",
   "nbconvert_exporter": "python",
   "pygments_lexer": "ipython3",
   "version": "3.11.9"
  }
 },
 "nbformat": 4,
 "nbformat_minor": 4
}
