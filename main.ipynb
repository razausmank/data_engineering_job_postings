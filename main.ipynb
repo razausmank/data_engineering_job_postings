{
 "cells": [
  {
   "cell_type": "code",
   "execution_count": 13,
   "metadata": {},
   "outputs": [
    {
     "name": "stdout",
     "output_type": "stream",
     "text": [
      "reading chunk 0\n",
      "shape is  (10000, 31)\n",
      "reading chunk 1\n",
      "shape is  (10000, 31)\n",
      "reading chunk 2\n",
      "shape is  (10000, 31)\n",
      "reading chunk 3\n",
      "shape is  (10000, 31)\n",
      "reading chunk 4\n",
      "shape is  (10000, 31)\n",
      "reading chunk 5\n",
      "shape is  (10000, 31)\n",
      "reading chunk 6\n",
      "shape is  (10000, 31)\n",
      "reading chunk 7\n",
      "shape is  (10000, 31)\n",
      "reading chunk 8\n",
      "shape is  (10000, 31)\n",
      "reading chunk 9\n",
      "shape is  (10000, 31)\n",
      "reading chunk 10\n",
      "shape is  (10000, 31)\n",
      "reading chunk 11\n",
      "shape is  (10000, 31)\n",
      "reading chunk 12\n",
      "shape is  (3849, 31)\n"
     ]
    }
   ],
   "source": [
    "import pandas as pd \n",
    "\n",
    "chunk_size = 10000\n",
    "\n",
    "chunks = [ ]\n",
    "\n",
    "for index, chunk in enumerate(pd.read_csv('data/postings.csv', chunksize=chunk_size)): \n",
    "    print(f\"reading chunk {index}\")\n",
    "    print(f\"shape is  {chunk.shape}\")\n",
    "    chunks.append(chunk)\n",
    "    \n",
    "    \n",
    "df = pd.concat(chunks, ignore_index=True)\n",
    "    "
   ]
  }
 ],
 "metadata": {
  "kernelspec": {
   "display_name": "data_engineering_job_postings",
   "language": "python",
   "name": "python3"
  },
  "language_info": {
   "codemirror_mode": {
    "name": "ipython",
    "version": 3
   },
   "file_extension": ".py",
   "mimetype": "text/x-python",
   "name": "python",
   "nbconvert_exporter": "python",
   "pygments_lexer": "ipython3",
   "version": "3.11.9"
  }
 },
 "nbformat": 4,
 "nbformat_minor": 2
}
